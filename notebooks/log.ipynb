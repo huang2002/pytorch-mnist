{
 "cells": [
  {
   "cell_type": "markdown",
   "metadata": {},
   "source": [
    "# Log Analysis"
   ]
  },
  {
   "cell_type": "code",
   "execution_count": 1,
   "metadata": {},
   "outputs": [],
   "source": [
    "import json\n",
    "\n",
    "import matplotlib.pyplot as plt\n",
    "import numpy as np\n",
    "import pandas as pd\n",
    "import seaborn as sns"
   ]
  },
  {
   "cell_type": "code",
   "execution_count": 2,
   "metadata": {},
   "outputs": [],
   "source": [
    "STYLE_TRAIN, COLOR_TRAIN = \"s-\", \"#19c\"\n",
    "STYLE_EVAL, COLOR_EVAL = \"^-\", \"#f91\""
   ]
  },
  {
   "cell_type": "markdown",
   "metadata": {},
   "source": [
    "## Data Loading"
   ]
  },
  {
   "cell_type": "code",
   "execution_count": 4,
   "metadata": {},
   "outputs": [],
   "source": [
    "with open(\"config.json\", encoding=\"utf-8\") as json_file:\n",
    "    config = json.load(json_file)"
   ]
  },
  {
   "cell_type": "code",
   "execution_count": null,
   "metadata": {},
   "outputs": [],
   "source": [
    "df_statistics = pd.read_csv(\"statistics.csv\", index_col=0)\n",
    "df_statistics.info()"
   ]
  },
  {
   "cell_type": "code",
   "execution_count": null,
   "metadata": {},
   "outputs": [],
   "source": [
    "with open(\"confusion_matrices.json\", encoding=\"utf-8\") as json_file:\n",
    "    confusion_matrices = json.load(json_file)\n",
    "\n",
    "print(\"Count of confusion matrices:\",len(confusion_matrices))"
   ]
  },
  {
   "cell_type": "markdown",
   "metadata": {},
   "source": [
    "## Training Config"
   ]
  },
  {
   "cell_type": "code",
   "execution_count": null,
   "metadata": {},
   "outputs": [],
   "source": [
    "for key, value in config.items():\n",
    "    print(f\"######## {key} ########\")\n",
    "    print(value)"
   ]
  },
  {
   "cell_type": "markdown",
   "metadata": {},
   "source": [
    "## Training Time"
   ]
  },
  {
   "cell_type": "code",
   "execution_count": null,
   "metadata": {},
   "outputs": [],
   "source": [
    "train_times_in_seconds = df_statistics[\"train_time_seconds\"]\n",
    "total_train_times_in_seconds = train_times_in_seconds.sum()\n",
    "mean_train_times_in_seconds = train_times_in_seconds.mean()\n",
    "std_train_times_in_seconds = train_times_in_seconds.std()\n",
    "\n",
    "print(\"Total Epoch(s)  : %23d\" % len(df_statistics))\n",
    "print(\n",
    "    \"Sum(TrainTime)  = %4.0f hr %3.0f min %3.0f sec\"\n",
    "    % (\n",
    "        total_train_times_in_seconds // 3600,\n",
    "        total_train_times_in_seconds // 60,\n",
    "        total_train_times_in_seconds % 60,\n",
    "    )\n",
    ")\n",
    "print(\n",
    "    \"Mean(TrainTime) = %4.0f hr %3.0f min %3.0f sec\"\n",
    "    % (\n",
    "        mean_train_times_in_seconds // 3600,\n",
    "        mean_train_times_in_seconds // 60,\n",
    "        mean_train_times_in_seconds % 60,\n",
    "    )\n",
    ")\n",
    "print(\n",
    "    \"Std(TrainTime)  = %4.0f hr %3.0f min %3.0f sec\"\n",
    "    % (\n",
    "        std_train_times_in_seconds // 3600,\n",
    "        std_train_times_in_seconds // 60,\n",
    "        std_train_times_in_seconds % 60,\n",
    "    )\n",
    ")"
   ]
  },
  {
   "cell_type": "code",
   "execution_count": null,
   "metadata": {},
   "outputs": [],
   "source": [
    "fig = plt.figure(figsize=(9, 3), dpi=150)\n",
    "fig.set_facecolor(\"#fff\")\n",
    "ax = fig.add_subplot()\n",
    "\n",
    "ax.stackplot(\n",
    "    df_statistics[\"epoch\"],\n",
    "    train_times_in_seconds,\n",
    "    df_statistics[\"eval_time_seconds\"],\n",
    "    labels=(\"Train\", \"Eval\"),\n",
    "    colors=(COLOR_TRAIN, COLOR_EVAL),\n",
    "    alpha=0.2,\n",
    ")\n",
    "ax.plot(\n",
    "    df_statistics[\"epoch\"],\n",
    "    train_times_in_seconds,\n",
    "    STYLE_TRAIN,\n",
    "    color=COLOR_TRAIN,\n",
    ")\n",
    "ax.plot(\n",
    "    df_statistics[\"epoch\"],\n",
    "    train_times_in_seconds + df_statistics[\"eval_time_seconds\"],\n",
    "    STYLE_EVAL,\n",
    "    color=COLOR_EVAL,\n",
    ")\n",
    "ax.set(\n",
    "    title=\"Epoch Times\",\n",
    "    xlabel=\"Epoch\",\n",
    "    ylabel=\"Seconds\",\n",
    "    xticks=np.arange(\n",
    "        df_statistics[\"epoch\"].min(),\n",
    "        df_statistics[\"epoch\"].max() + 0.1,\n",
    "        np.ceil(len(df_statistics) / 10),\n",
    "    ),\n",
    ")\n",
    "ax.legend()\n",
    "ax.grid(axis=\"y\")"
   ]
  },
  {
   "cell_type": "markdown",
   "metadata": {},
   "source": [
    "## Accuracy & Loss"
   ]
  },
  {
   "cell_type": "code",
   "execution_count": null,
   "metadata": {},
   "outputs": [],
   "source": [
    "fig = plt.figure(figsize=(8, 4), dpi=150)\n",
    "fig.set_facecolor(\"#fff\")\n",
    "ax_acc = fig.add_subplot()\n",
    "ax_loss = ax_acc.twinx()\n",
    "\n",
    "eval_mask = ~df_statistics[\"eval_accuracy\"].isna()\n",
    "\n",
    "ax_loss.legend(\n",
    "    handles=[\n",
    "        bars := ax_acc.bar(\n",
    "            df_statistics[\"epoch\"][eval_mask],\n",
    "            df_statistics[\"eval_accuracy\"][eval_mask],\n",
    "            color=\"lightgreen\",\n",
    "            alpha=0.5,\n",
    "            label=\"eval_accuracy\",\n",
    "        ),\n",
    "        *ax_loss.plot(\n",
    "            df_statistics[\"epoch\"],\n",
    "            df_statistics[\"train_avg_loss\"],\n",
    "            STYLE_TRAIN,\n",
    "            color=COLOR_TRAIN,\n",
    "            label=\"train_avg_loss\",\n",
    "        ),\n",
    "        *ax_loss.plot(\n",
    "            df_statistics[\"epoch\"][eval_mask],\n",
    "            df_statistics[\"eval_avg_loss\"][eval_mask],\n",
    "            STYLE_EVAL,\n",
    "            color=COLOR_EVAL,\n",
    "            label=\"eval_avg_loss\",\n",
    "        ),\n",
    "    ],\n",
    "    loc=\"center right\",\n",
    ")\n",
    "\n",
    "for bar in bars:\n",
    "    bar_height = bar.get_height()\n",
    "    ax_acc.text(\n",
    "        bar.get_x() + bar.get_width() / 2,\n",
    "        bar_height,\n",
    "        f\"{bar_height:.3f}\",\n",
    "        ha='center',\n",
    "        va='bottom'\n",
    "    )\n",
    "\n",
    "ax_acc.set(\n",
    "    ylabel=\"Accuracy\",\n",
    "    title=\"Model Statistics\",\n",
    "    xlabel=\"Epoch\",\n",
    "    xticks=df_statistics[\"epoch\"],\n",
    ")\n",
    "ax_loss.set(\n",
    "    ylabel=\"Loss\",\n",
    ")\n",
    "ax_acc.grid(axis=\"y\", alpha=0.3)"
   ]
  },
  {
   "cell_type": "markdown",
   "metadata": {},
   "source": [
    "## Confusion Matrix"
   ]
  },
  {
   "cell_type": "code",
   "execution_count": null,
   "metadata": {},
   "outputs": [],
   "source": [
    "last_confusion_matrix = np.array(confusion_matrices[-1][\"confusion_matrix\"])\n",
    "last_relative_confusion_matrix = (\n",
    "    last_confusion_matrix / last_confusion_matrix.sum(axis=1)\n",
    ")\n",
    "\n",
    "fig = plt.figure(figsize=(8, 4), dpi=150)\n",
    "fig.set_facecolor(\"#fff\")\n",
    "ax = fig.add_subplot()\n",
    "\n",
    "sns.heatmap(\n",
    "    last_relative_confusion_matrix,\n",
    "    fmt=\".2f\",\n",
    "    annot=True,\n",
    "    cmap=\"coolwarm\",\n",
    ")\n",
    "ax.set(\n",
    "    title=\"Relative Confusion Matrix\",\n",
    "    xlabel=\"Prediction\",\n",
    "    ylabel=\"Ground Truth\",\n",
    ")\n",
    "\n",
    "last_confusion_matrix"
   ]
  }
 ],
 "metadata": {
  "kernelspec": {
   "display_name": ".venv",
   "language": "python",
   "name": "python3"
  },
  "language_info": {
   "codemirror_mode": {
    "name": "ipython",
    "version": 3
   },
   "file_extension": ".py",
   "mimetype": "text/x-python",
   "name": "python",
   "nbconvert_exporter": "python",
   "pygments_lexer": "ipython3",
   "version": "3.12.1"
  }
 },
 "nbformat": 4,
 "nbformat_minor": 2
}
