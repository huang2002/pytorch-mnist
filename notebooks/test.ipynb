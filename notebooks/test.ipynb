{
    "cells": [
        {
            "cell_type": "markdown",
            "metadata": {},
            "source": [
                "# Model Test"
            ]
        },
        {
            "cell_type": "code",
            "execution_count": 1,
            "metadata": {},
            "outputs": [],
            "source": [
                "import json\n",
                "import os\n",
                "import sys\n",
                "from pathlib import Path\n",
                "\n",
                "import numpy as np\n",
                "import torch"
            ]
        },
        {
            "cell_type": "code",
            "execution_count": null,
            "metadata": {},
            "outputs": [],
            "source": [
                "with open(\"config.json\", encoding=\"utf-8\") as json_file:\n",
                "    config = json.load(json_file)"
            ]
        },
        {
            "cell_type": "code",
            "execution_count": null,
            "metadata": {},
            "outputs": [],
            "source": [
                "log_dir = Path(os.getcwd())\n",
                "sys.path.append(log_dir.parent.parent.absolute().as_posix())\n",
                "\n",
                "from data import get_data\n",
                "from models import get_model\n",
                "\n",
                "data = get_data(\n",
                "    config[\"options\"][\"dataset\"],\n",
                "    device=torch.device(\"cpu\"),\n",
                "    batch_size=1,\n",
                ")\n",
                "\n",
                "Model = get_model(config[\"options\"][\"model\"])\n",
                "model = Model()\n",
                "weight_path = log_dir / \"weights.pth\"\n",
                "weights = torch.load(weight_path, weights_only=True)\n",
                "model.load_state_dict(weights)\n",
                "model.eval()"
            ]
        },
        {
            "cell_type": "code",
            "execution_count": null,
            "metadata": {},
            "outputs": [],
            "source": [
                "x_test = torch.zeros((1, 1, 28, 28))\n",
                "x_test[0, 0, 2:20, 15:17] = 1\n",
                "print(\"x_test =\")\n",
                "print(\n",
                "    \"\\n\".join(\n",
                "        \"\".join(f\"{x:.0f}\" for x in row)\n",
                "        for row in x_test[0, 0, :, :].tolist()\n",
                "    )\n",
                ")"
            ]
        },
        {
            "cell_type": "code",
            "execution_count": null,
            "metadata": {},
            "outputs": [],
            "source": [
                "y_test = model(x_test)\n",
                "pred_test = np.take(data.dataset_train.classes, y_test.argmax(1))\n",
                "print(\"y_test =\")\n",
                "print(y_test)\n",
                "print(\"pred_test =\")\n",
                "print(pred_test)"
            ]
        }
    ],
    "metadata": {
        "kernelspec": {
            "display_name": "Python 3",
            "language": "python",
            "name": "python3"
        },
        "language_info": {
            "codemirror_mode": {
                "name": "ipython",
                "version": 3
            },
            "file_extension": ".py",
            "mimetype": "text/x-python",
            "name": "python",
            "nbconvert_exporter": "python",
            "pygments_lexer": "ipython3",
            "version": "3.12.8"
        }
    },
    "nbformat": 4,
    "nbformat_minor": 2
}
